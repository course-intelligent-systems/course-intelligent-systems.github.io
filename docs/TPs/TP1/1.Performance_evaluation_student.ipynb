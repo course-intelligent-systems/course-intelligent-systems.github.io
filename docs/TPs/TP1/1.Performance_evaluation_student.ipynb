{
 "cells": [
  {
   "cell_type": "markdown",
   "id": "d17d6a95",
   "metadata": {},
   "source": [
    "## TP1: Performance evaluation\n",
    "\n",
    "In this practical session you  are going to manipulate the sklearn library.\n",
    "The main goal is to analyze the performance of several methods on a binary classification task.\n",
    "You will experiment with different metrics that can be used to evaluate the performance.\n"
   ]
  },
  {
   "cell_type": "markdown",
   "id": "9e9a24f0",
   "metadata": {},
   "source": [
    "## Dataset loading\n",
    "\n",
    "The breast cancer dataset is a binary classification dataset.\n",
    "We are first interested to know the input dimensionality, the number of samples, the number of positive samples and the ratio of positive samples in the dataset."
   ]
  },
  {
   "cell_type": "code",
   "execution_count": null,
   "id": "17f9582f",
   "metadata": {},
   "outputs": [],
   "source": [
    "from sklearn import datasets\n",
    "\n",
    "dataset = datasets.load_breast_cancer()\n",
    "X = dataset.data\n",
    "y = dataset.target\n",
    "\n",
    "input_dimension = 0 # TODO\n",
    "nb_samples = 0 # TODO\n",
    "\n",
    "from numpy import sum\n",
    "nb_positives = 0 # TODO\n",
    "positive_ratio = 0 # TODO\n",
    " \n",
    "print(\"Input dimension: \", input_dimension)\n",
    "print(\"Nb of samples in the full dataset: \", nb_samples)\n",
    "print(\"Nb of positive samples\", nb_positives)\n",
    "print(\"Positive Ratio:\", positive_ratio)\n"
   ]
  },
  {
   "cell_type": "markdown",
   "id": "35f4d057",
   "metadata": {},
   "source": [
    "*Q*: How many input values are available to predict the probability to have a breast cancer?\n",
    "\n",
    "*Q*: How many samples does the dataset contain?\n",
    "\n",
    "*Q*: What is the positive ratio in the dataset?"
   ]
  },
  {
   "cell_type": "markdown",
   "id": "825e30d2",
   "metadata": {},
   "source": [
    "### Dataset split\n",
    "Now we are going to perform a split of the data for the evaluation. Use the train_test_split function with a test_size parameter of 0.3.\n",
    "\n",
    "Then compute the number of samples in the train and test set, as well as their positive ratio."
   ]
  },
  {
   "cell_type": "code",
   "execution_count": null,
   "id": "3fc16da4",
   "metadata": {},
   "outputs": [],
   "source": [
    "from sklearn.model_selection import train_test_split\n",
    "\n",
    "X_train,X_test,y_train,y_test = 0,0,0,0 # TODO\n",
    "X_train,X_test,y_train,y_test = train_test_split(X,y,test_size=0.3) # DONE\n",
    "\n",
    "nb_samples_train = 0 # TODO\n",
    "nb_samples_test = 0 # TODO\n",
    "\n",
    "nb_train_positives = 0 # TODO\n",
    "nb_test_positives = 0 # TODO\n",
    "\n",
    "train_positive_ratio = 0 # TODO\n",
    "test_positive_ratio = 0 # TODO\n",
    "\n",
    "print(\"Nb samples train\", nb_samples_train)\n",
    "print(\"Nb samples test\", nb_samples_test)\n",
    "print(\"Nb of positive train samples\", nb_train_positives)\n",
    "print(\"Nb of positive test samples\", nb_test_positives)\n",
    "print(\"Train Positive Ratio:\", train_positive_ratio)\n",
    "print(\"Test Positive Ratio:\", test_positive_ratio)\n"
   ]
  },
  {
   "cell_type": "markdown",
   "id": "971ffd4c",
   "metadata": {},
   "source": [
    "Q: How many samples do you have in the training set?\n",
    "\n",
    "Q: How many samples in the test set?\n",
    "\n",
    "Q: Are the train and test positive ratios similar ? (answer will differ depending on the random state)"
   ]
  },
  {
   "cell_type": "markdown",
   "id": "79b74dd2",
   "metadata": {},
   "source": [
    "## Train and evaluate methods\n",
    "\n",
    "We are now going to train some classification methods on the train data.\n",
    "For today we are going to use Nearest Neighbor, Logistic Regression and a Decision Tree."
   ]
  },
  {
   "cell_type": "code",
   "execution_count": null,
   "id": "9e81a1f8",
   "metadata": {},
   "outputs": [],
   "source": [
    "from sklearn.tree import DecisionTreeClassifier\n",
    "from sklearn.linear_model import LogisticRegression\n",
    "from sklearn.neighbors import KNeighborsClassifier\n",
    "\n",
    "clf_nn = KNeighborsClassifier(n_neighbors=3)\n",
    "clf_tree = DecisionTreeClassifier();\n",
    "clf_log = LogisticRegression(max_iter=5000);\n",
    "\n",
    "clf_nn.fit(X_train, y_train); \n",
    "clf_tree.fit(X_train, y_train);\n",
    "clf_log.fit(X_train, y_train);"
   ]
  },
  {
   "cell_type": "markdown",
   "id": "b74fc06f",
   "metadata": {},
   "source": [
    "Once the classifiers trained, they are ready to ```predict```. Use the prediction functions to obtain the predictions on the test data.\n",
    "\n",
    "Sometimes it is interesting to not only look at the final prediction, but to have a look at the predicted probability. You can use the ```predict_proba``` function. From its output, for all predictions, you can keep the probability of the second class (having cancer). This is effectively performed with the python selector [:,1].\n",
    "\n",
    "Q: For the nearest neighbor method, print the difference between the predictions and the probabilities. As you will see they are not zero. Predictions are binary, while probabilities are floats."
   ]
  },
  {
   "cell_type": "code",
   "execution_count": null,
   "id": "6c182cb9",
   "metadata": {},
   "outputs": [],
   "source": [
    "y_pred_nn = 0 # TODO\n",
    "y_pred_tree = 0 # TODO\n",
    "y_pred_log = 0 # TODO\n",
    "\n",
    "y_proba_nn = 0 # TODO\n",
    "y_proba_tree = 0 # TODO\n",
    "y_proba_log = 0 # TODO\n",
    "\n",
    "diff = 0 # TODO\n",
    "\n",
    "print(\"Difference between prediction and probability\", diff)\n"
   ]
  },
  {
   "cell_type": "markdown",
   "id": "985e60a0",
   "metadata": {},
   "source": [
    "To have a sense of the difficulty of the problem it is usually helpful to evaluate simple baselines.\n",
    "In this case we ask you to generate three baseline results:\n",
    "- The results of a random method: use ```random.ramdom(N)``` to generate N probabilities between 0 and 1, and use ```rint``` to round them to final binary predictions.\n",
    "- The results of a methods *always* classifying as \"there is cancer\", just use the ```ones``` method.\n",
    "- The results of a methods *never* classifying as \"there is cancer\", just use the ```zeros``` method."
   ]
  },
  {
   "cell_type": "code",
   "execution_count": null,
   "id": "c2aab540",
   "metadata": {},
   "outputs": [],
   "source": [
    "# create baselines\n",
    "from numpy import random, zeros, ones, rint\n",
    "\n",
    "y_proba_random = 0 # TODO\n",
    "y_pred_random = 0 # TODO\n",
    "\n",
    "y_pred_zeros = 0 # TODO\n",
    "y_pred_ones = 0 # TODO\n"
   ]
  },
  {
   "cell_type": "markdown",
   "id": "9b78915e",
   "metadata": {},
   "source": [
    "## Metrics\n",
    "Now that we have predictions and probabilities of 6 methods we are going to compare them with standard metrics.\n",
    "\n",
    "First we want to compute their accuracy, precision, recall and f1_score. Use the ```accuracy_score```, ```precision_score```, ```recall_score``` and  ```f1_score``` to compute them."
   ]
  },
  {
   "cell_type": "code",
   "execution_count": null,
   "id": "35bfdbbf",
   "metadata": {},
   "outputs": [],
   "source": [
    "from sklearn.metrics import accuracy_score, precision_score, recall_score, f1_score\n",
    "from numpy import rint\n",
    "import numpy as np\n",
    "\n",
    "def printMetrics(method_title, test_data, pred_data):\n",
    "    print(method_title) \n",
    "    print(\"\\tAccuracy \", 0) # TODO\n",
    "    print(\"\\tPrecision \", 0) # TODO\n",
    "    print(\"\\tRecall \", 0) # TODO\n",
    "    print(\"\\tF1 score\", 0) # TODO\n",
    "        \n",
    "printMetrics(\"Nearest Neighbors:\", [0],[0] ) # TODO\n",
    "printMetrics(\"Decision Tree:\", [0],[0] ) # TODO\n",
    "printMetrics(\"Logistic Regression:\", [0],[0] ) # TODO\n",
    "printMetrics(\"Random:\", [0],[0] ) # TODO\n",
    "printMetrics(\"Always:\", [0],[0] ) # TODO\n",
    "printMetrics(\"Never:\", [0],[0] ) # TODO\n"
   ]
  },
  {
   "cell_type": "markdown",
   "id": "e398b772",
   "metadata": {},
   "source": [
    "Q: What do you observe from these results?\n",
    "\n",
    "Q: Did you get an error? Why?\n",
    "\n",
    "Q: From these results, what would be your preliminary ranking of the methods?"
   ]
  },
  {
   "cell_type": "markdown",
   "id": "7eec5a50",
   "metadata": {},
   "source": [
    "### The ROC curve\n",
    "\n",
    "To create a ROC curve we need first to compute the false positive rate and the true positive rate.\n",
    "For that we should use the probabilities (before binarization). Compute the  positive rates for all 6 methods."
   ]
  },
  {
   "cell_type": "code",
   "execution_count": null,
   "id": "07459422",
   "metadata": {},
   "outputs": [],
   "source": [
    "from sklearn.metrics import roc_curve\n",
    "\n",
    "false_positive_rate_nn, true_positive_rate_nn, _ = 0,0,0 # TODO\n",
    "false_positive_rate_tree, true_positive_rate_tree, _ = 0,0,0 # TODO\n",
    "false_positive_rate_log, true_positive_rate_log, _ = 0,0,0 # TODO\n",
    "false_positive_rate_random, true_positive_rate_random, _ = 0,0,0 # TODO\n",
    "false_positive_rate_zeros, true_positive_rate_zeros, _ = 0,0,0 # TODO\n",
    "false_positive_rate_ones, true_positive_rate_ones, _ = 0,0,0 # TODO\n"
   ]
  },
  {
   "cell_type": "markdown",
   "id": "cb944c27",
   "metadata": {},
   "source": [
    "To plot a ROC curve you need to plot the False positive rate against the True positive rate.\n",
    "Complete the function definition and give the proper arguments to do the plots."
   ]
  },
  {
   "cell_type": "code",
   "execution_count": null,
   "id": "7d71f8f8",
   "metadata": {
    "scrolled": false
   },
   "outputs": [],
   "source": [
    "import matplotlib.pyplot as plt\n",
    "\n",
    "def plotROC(title): # TODO: add FP and TP\n",
    "    plt.subplots(1, figsize=(10,10))\n",
    "    plt.title('Receiver Operating Characteristic - ' + title)\n",
    "    # plt.plot() # TODO plot values one against each other\n",
    "    plt.plot([0, 1], ls=\"--\") # This draws the diagonal\n",
    "    plt.plot([0, 0], [1, 0] , c=\".7\"), plt.plot([1, 1] , c=\".7\") # This draws the \"perfect\" score\n",
    "    plt.ylabel('True Positive Rate')\n",
    "    plt.xlabel('False Positive Rate')\n",
    "    plt.show()\n",
    "\n",
    "plotROC(\"Nearest\"); # TODO add FP and TP\n",
    "plotROC(\"DecisionTree\"); # TODO add FP and TP\n",
    "plotROC(\"Logistic regression\"); # TODO add FP and TP\n",
    "plotROC(\"Random\"); # TODO add FP and TP\n",
    "plotROC(\"Always\"); # TODO add FP and TP\n",
    "plotROC(\"Never\"); # TODO add FP and TP\n"
   ]
  },
  {
   "cell_type": "markdown",
   "id": "5d5272c0",
   "metadata": {},
   "source": [
    "Q: Compare the curves. What do you see?\n",
    "\n",
    "Q: Particularly, compare the \"Always cancer\" and \"Never cancer\" curves. Why do you get these curves? Discuss their similarities and or differences.\n",
    "\n",
    "Q: would your preliminary ranking of the methods change after seeing these curves? Explain why or why not."
   ]
  },
  {
   "cell_type": "markdown",
   "id": "4c683927",
   "metadata": {},
   "source": [
    "For a better comparison you can plot all curves in the same plot.\n",
    "Use the parameter ```label='Data label'``` in the plot function to know which one is each and the ```plot.legend(loc=\"lower right\")``` to show the legend."
   ]
  },
  {
   "cell_type": "code",
   "execution_count": null,
   "id": "01db7293",
   "metadata": {},
   "outputs": [],
   "source": [
    "plt.subplots(1, figsize=(10,10))\n",
    "plt.title('Receiver Operating Characteristic')\n",
    "plt.plot([0,1], label=\"Zeros\"); # TODO\n",
    "plt.plot([0,1],  label=\"Ones\"); # TODO\n",
    "plt.plot([0,1],  label=\"Tree\"); # TODO\n",
    "plt.plot([0,1],  label=\"Random\"); # TODO\n",
    "plt.plot([0,1],  label=\"Logistic\"); # TODO\n",
    "plt.plot([0,1],  label=\"Nearest\"); # TODO\n",
    "\n",
    "plt.plot([0, 1], ls=\"--\")\n",
    "plt.plot([0, 0], [1, 0] , c=\".7\"), plt.plot([1, 1] , c=\".7\")\n",
    "plt.ylabel('True Positive Rate')\n",
    "plt.xlabel('False Positive Rate')\n",
    "# TODO add legend\n",
    "plt.show()\n",
    "\n"
   ]
  },
  {
   "cell_type": "markdown",
   "id": "a1a15e4a",
   "metadata": {},
   "source": [
    "To compute the Roc Area Under Curve (AUC) score you can use the function ```roc_auc_score```"
   ]
  },
  {
   "cell_type": "code",
   "execution_count": null,
   "id": "de16b408",
   "metadata": {},
   "outputs": [],
   "source": [
    "from sklearn.metrics import roc_auc_score\n",
    "\n",
    "print('roc_auc_score for Nearest: ', 0) # TODO\n",
    "print('roc_auc_score for DecisionTree: ', 0) # TODO\n",
    "print('roc_auc_score for Logistic Regression: ', 0) # TODO\n",
    "print('roc_auc_score for Random Guessing: ', 0) # TODO\n",
    "print('roc_auc_score for Always No Cancer: ', 0) # TODO\n",
    "print('roc_auc_score for Always Cancer: ', 0) # TODO\n"
   ]
  },
  {
   "cell_type": "markdown",
   "id": "43299f0d",
   "metadata": {},
   "source": [
    "Q: Do you have a strong preference on which method you would use? Why?"
   ]
  },
  {
   "cell_type": "markdown",
   "id": "3cf6a997",
   "metadata": {},
   "source": [
    "### Rerunning the process\n",
    "\n",
    "Save the current results (screenshot or write down the roc auc scores), then go back to the beginning of the notebook and rerun the script.\n",
    "\n",
    "Q: Do you get the same numeric results? Why? How to get some control for this variability?"
   ]
  },
  {
   "cell_type": "markdown",
   "id": "1a92363a",
   "metadata": {},
   "source": [
    "## Cross validation\n",
    "\n",
    "Cross validation is a way to evaluate on the full dataset.\n",
    "The sklearn library implements the ```KFold``` function that allows to create K splits for train and test.\n",
    "\n",
    "Use it to obtain splits, plot the positive ratio in each split in the train and in the test and their difference.\n",
    "\n",
    "Q: What do you observe?\n",
    "\n"
   ]
  },
  {
   "cell_type": "code",
   "execution_count": null,
   "id": "8aa75e4e",
   "metadata": {},
   "outputs": [],
   "source": [
    "from sklearn.model_selection import KFold\n",
    "\n",
    "n_splits=10\n",
    "\n",
    "kfold = 0 # TODO\n",
    "kfold_splits = [[0], [0]] # TODO\n",
    "\n",
    "kfold = KFold(n_splits=10, shuffle=True, random_state=1) # DONE\n",
    "kfold_splits = kfold.split(X) # DONE\n",
    "\n",
    "# each split contains indices for the train and test data\n",
    "for train_indices, test_indices in kfold_splits:\n",
    "    # select the data for the fold\n",
    "    X_train, X_test = X[train_indices], X[test_indices]\n",
    "    y_train, y_test = y[train_indices], y[test_indices]\n",
    "    \n",
    "    # compute ratio of positive examples\n",
    "    nb_train = 0 # TODO\n",
    "    train_positive = 0 # TODO\n",
    "    train_ratio = 0 # TODO\n",
    "    \n",
    "    nb_test = 0 # TODO\n",
    "    test_positive = 0 # TODO\n",
    "    test_ratio = 0 # TODO\n",
    "    \n",
    "    print(\"\\nTrain positive Ratio:\", train_ratio)\n",
    "    print(\"Test postivie Ratio:\", test_ratio)\n",
    "    print(\"Difference:\", train_ratio - test_ratio)\n"
   ]
  },
  {
   "cell_type": "markdown",
   "id": "b7ff9bf9",
   "metadata": {},
   "source": [
    "One way to ensure the same positive rate in the splits is to use Stratified K Fold cross validation.\n",
    "Adapt the previous code to use ```StratifiedKFold``` and compare the results."
   ]
  },
  {
   "cell_type": "code",
   "execution_count": null,
   "id": "6252bf61",
   "metadata": {},
   "outputs": [],
   "source": [
    "from sklearn.model_selection import StratifiedKFold\n",
    "\n",
    "n_splits=10\n",
    "\n",
    "kfold = 0 # TODO\n",
    "kfold_splits = [[0], [0]] # TODO\n",
    "\n",
    "\n",
    "# each split contains indices for the train and test data\n",
    "for train_indices, test_indices in kfold_splits:\n",
    "    # select the data for the fold\n",
    "    X_train, X_test = X[train_indices], X[test_indices]\n",
    "    y_train, y_test = y[train_indices], y[test_indices]\n",
    "    \n",
    "    # compute ratio of positive examples\n",
    "    nb_train = 0 # TODO\n",
    "    train_positive = 0 # TODO\n",
    "    train_ratio = 0 # TODO\n",
    "    \n",
    "    nb_test = 0 # TODO\n",
    "    test_positive = 0 # TODO\n",
    "    test_ratio = 0 # TODO\n",
    "    \n",
    "    print(\"\\nTrain positive Ratio:\", train_ratio)\n",
    "    print(\"Test postivie Ratio:\", test_ratio)\n",
    "    print(\"Difference:\", train_ratio - test_ratio)\n",
    "    "
   ]
  },
  {
   "cell_type": "markdown",
   "id": "5ef3b500",
   "metadata": {},
   "source": [
    "Q: Compare and discuss the differences between the ```KFold``` and ```StratifiedKFold``` methods."
   ]
  }
 ],
 "metadata": {
  "kernelspec": {
   "display_name": "Python 3 (ipykernel)",
   "language": "python",
   "name": "python3"
  },
  "language_info": {
   "codemirror_mode": {
    "name": "ipython",
    "version": 3
   },
   "file_extension": ".py",
   "mimetype": "text/x-python",
   "name": "python",
   "nbconvert_exporter": "python",
   "pygments_lexer": "ipython3",
   "version": "3.8.10"
  }
 },
 "nbformat": 4,
 "nbformat_minor": 5
}
